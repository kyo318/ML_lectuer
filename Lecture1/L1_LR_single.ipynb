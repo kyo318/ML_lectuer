{
 "cells": [
  {
   "cell_type": "markdown",
   "metadata": {},
   "source": [
    "## Gradient Descent for Linear Regression\n",
    "\n",
    "Goals\n",
    "In this lab, you will\n",
    "- automate the process of optimizing $w$ and $b$ using gradient descent\n",
    "\n",
    "Tools\n",
    "In this lab, we will make use of\n",
    "- Numpy, Matplotlib"
   ]
  },
  {
   "cell_type": "code",
   "execution_count": 1,
   "metadata": {},
   "outputs": [],
   "source": [
    "import math, copy\n",
    "import numpy as np\n",
    "import matplotlib.pyplot as plt\n"
   ]
  },
  {
   "cell_type": "markdown",
   "metadata": {},
   "source": [
    "# Problem Statement\n",
    "\n",
    "Let's use the same four data points \n",
    "|size (m^2)  |Price (10M of wons)|\n",
    "|-----------------|-------------------------|\n",
    "|26                 | 15                    |\n",
    "|36                 | 28                    |\n",
    "|43                 | 41                    |\n",
    "|55                 | 55                    |"
   ]
  },
  {
   "cell_type": "code",
   "execution_count": 2,
   "metadata": {},
   "outputs": [],
   "source": [
    "x_train = np.array([26, 36, 43, 55])\n",
    "y_train = np.array([15, 28, 41, 55])"
   ]
  },
  {
   "cell_type": "markdown",
   "metadata": {},
   "source": [
    "## Computing Cost\n",
    "The term 'cost' in this assignment might be a little confusing since the data is housing cost. Here, cost is a measure how well our model is predicting the target price of the house. The term 'price' is used for housing data. \n",
    "The equation for cost with one variable is:\n",
    "$$J(w, b) = \\frac{1}{2m} \\sum\\limits_{i=0}^{m-1} (f_{w,b}(x^{(i)})-y^{(i)})^2 \\tag{1}$$\n",
    "\n",
    "- $$f_{w,b}(x^{(i)}) = wx^{(i)} + b \\tag{2}$$\n",
    "- $f_{w,b}(x^{(i)})$ is our prediction for example $i$ using parameter $w, b$\n",
    "- $(f_{w,b}(x^{(i)}) - y^{(i)})^2$ is the squared difference between the target value and the prediction. \n",
    "- These differences are summed over all the $m$ examples and divided by $2m$ to produce the cost, $J(w,b)$. \n",
    "\n",
    "The code below calculates cost by looping over each example. In each loop:\n",
    "- 'f_wb', a prediction is calculated\n",
    "- the difference between the target and the prediction is calculated and squared. \n",
    "- This is added to the total cost"
   ]
  },
  {
   "cell_type": "code",
   "execution_count": 3,
   "metadata": {},
   "outputs": [],
   "source": [
    "def compute_cost(x, y, w, b):\n",
    "    \"\"\"\n",
    "    computes the cost function for linear regression.\n",
    "    \n",
    "    Arg:\n",
    "    x (ndarray (m,)): Data, m examples\n",
    "    y (ndarray (m,)): target values\n",
    "    w,b (scalar)    : model parameters\n",
    "    \n",
    "    Returns\n",
    "    total_cost (float): The cost of using w, b as the parameters for linear regression\n",
    "                        to fit the data points in x and y.\n",
    "    \"\"\"\n",
    "    m = x.shape[0]\n",
    "    \n",
    "    cost_sum = 0\n",
    "    for i in range(m):\n",
    "        f_wb = w * x[i] + b\n",
    "        cost = (f_wb - y[i]) ** 2\n",
    "        cost_sum = cost_sum + cost\n",
    "    total_cost = (1 / (2 * m )) * cost_sum\n",
    "    \n",
    "    return total_cost"
   ]
  },
  {
   "cell_type": "markdown",
   "metadata": {},
   "source": [
    "# Gradient descent summary\n",
    "So far in this course, we have developed a linear model that predicts $f_{w, b}(x^{(i)})$:\n",
    "$$f_{w, b}(x^{(i)}) = wx^{(i)} + b \\tag{1}$$\n",
    "In linear regression, you utilize input training data to fit the parameters $w$, $b$ by minimizing a measure of the error between our predictions $f_{w, b}(x^{(i)})$ and the actual data $y^{(i)}$. The measure is called the $cost$, $J(w,b)$. In training you measure the cost over all of our training samples $x^{(i)}, y^{(i)}$\n",
    "$$J(w,b)=\\frac{1}{2m}\\sum\\limits_{i=0}^{m-1} (f_{w,b}(x^{(i)}) - y^{(i)})^2\\tag{2}$$"
   ]
  },
  {
   "cell_type": "markdown",
   "metadata": {},
   "source": [
    "In lecture, *gradient descent* was described as:\n",
    "$$\\begin{align*} \\text{repeat}&\\text{ until convergence:} \\; \\lbrace \\newline\n",
    "\\; w &= w - \\alpha \\frac{\\partial J(w,b)}{\\partial w} \\tag{3} \\; \\newline\n",
    "b &= b - \\alpha \\frac{\\partial J(w, b)}{\\partial b} \\newline \\rbrace\n",
    "\\end{align*}$$\n",
    "where, parameters $w$, $b$ are updated simultaneously.\n",
    "The gradient is defined as\n",
    "$$\n",
    "\\begin{align}\n",
    "\\frac{\\partial J(w, b)}{\\partial w} &=\\frac{1}{m} \\sum\\limits_{i=0}^{m-1} (f_{w,b}(x^{(i)}) - y^{(i)})x^{(i)}\\tag{4}\\\\\n",
    "\\frac{\\partial J(w,b)}{\\partial b} &=\\frac{1}{m} \\sum\\limits_{i=0}^{m-1} (f_{w,b}(x^{(i)})-y^{(i)}) \\tag{5}\\\\\n",
    "\\end{align}\n",
    "$$\n",
    "Here *simultaniously* means that you calculate the partial derivatives for all the parameters before updating any of the parameters"
   ]
  },
  {
   "cell_type": "markdown",
   "metadata": {},
   "source": [
    "# Implement Gradient Descent\n",
    "We will implement gradient descent algorithm for one feature. You will need three functions.\n",
    "- `compute_gradient` implementing equation (4) and (5) above, \n",
    "- `compute_cost` implementing equation (2) above\n",
    "- `gradient_descent`, utilizing compute_gradient and compute_cost\n",
    "\n",
    "Convention:\n",
    "- The naming of python variables containing partial derivatives follow this pattern, $\\frac{\\partial J(w,b)}{\\partial b}$ will be `dj_db`\n",
    "- w.r.t is with respect to, as in partial derivative of $J(wb)$ With Respect To $b$"
   ]
  },
  {
   "cell_type": "code",
   "execution_count": 4,
   "metadata": {},
   "outputs": [],
   "source": [
    "def compute_gradient(x, y, w, b):\n",
    "    \"\"\"\n",
    "    Computes the gradient for linear regression\n",
    "    Args:\n",
    "    x (ndarray (m,)): Data, m examples\n",
    "    y (ndarray (m))): target values\n",
    "    w,b (scalar)    : model parameters\n",
    "    Return\n",
    "    dj_dw (scalar) : The gradient of the cost w.r.t. the parameter w\n",
    "    dj_db (scalar) : The gradient of the cost w.r.t. the parameter b\n",
    "    \"\"\"\n",
    "    m = x.shape[0]\n",
    "    dj_dw = 0\n",
    "    dj_db = 0\n",
    "    for i in range(m):\n",
    "        f_wb = w * x[i] + b\n",
    "        dj_dw_i = (f_wb - y[i]) * x[i]\n",
    "        dj_db_i = (f_wb - y[i])\n",
    "        dj_dw += dj_dw_i \n",
    "        dj_db += dj_db_i\n",
    "    dj_dw = dj_dw / m\n",
    "    dj_db = dj_db / m\n",
    "    \n",
    "    return dj_dw, dj_db\n"
   ]
  },
  {
   "cell_type": "markdown",
   "metadata": {},
   "source": [
    "Below, we will utilize gradient descent function to find optimal values of $w$ and $b$ on the training data"
   ]
  },
  {
   "cell_type": "code",
   "execution_count": 5,
   "metadata": {},
   "outputs": [],
   "source": [
    "def gradient_descent(x, y, w_in, b_in, alpha, num_iters, cost_funtion, gradient_function):\n",
    "    \"\"\"\n",
    "    Performs gradient descent to fit w, b. Updates w, b by taking\n",
    "    num_iters gradient steps with learning rate alpha\n",
    "    \n",
    "    Args:\n",
    "    x (ndarray (m,))    : Data, m examples\n",
    "    y (ndarray (m,))    : target values\n",
    "    w_in, b_in (scalar) : initial values of model parameters\n",
    "    alpha (float)       : Learning rate\n",
    "    num_iters (int)     : number of iterations to run gradient descent\n",
    "    cost_funtion        : funtion to call to produce cost\n",
    "    gradient_funtions   : funtion to call to produce gradient\n",
    "    \n",
    "    Return:\n",
    "    w (scalar)          : updated value of parameter after running gradient descent\n",
    "    b (scalar)          : updated value of parameter after running gradient descent\n",
    "    J_history (List)    : History of cost values\n",
    "    p_history (List)    : History of parameter [w,b]\n",
    "    \"\"\"\n",
    "    \n",
    "    J_history = []\n",
    "    p_history = []\n",
    "    w = w_in\n",
    "    b = b_in\n",
    "    for i in range(num_iters):\n",
    "        dj_dw, dj_db = gradient_function(x, y, w, b)\n",
    "        b = b - alpha * dj_db\n",
    "        w = w - alpha * dj_dw\n",
    "        \n",
    "        if i < 100000: #prevent resource exhaustion\n",
    "            J_history.append(cost_funtion(x, y, w, b))\n",
    "            p_history.append([w,b])\n",
    "        if i % math.ceil(num_iters/10) == 0 :\n",
    "            print(f\"iteration {i:4}: Cost {J_history[-1]:0.2e}\",\n",
    "                  f\"dj_dw: {dj_dw: 0.3e}, dj_db: {dj_db: 0.3e}\",\n",
    "                  f\"w: {w:0.3e}, b:{b: 0.5e}\")\n",
    "    return w, b, J_history, p_history"
   ]
  },
  {
   "cell_type": "code",
   "execution_count": 15,
   "metadata": {},
   "outputs": [
    {
     "name": "stdout",
     "output_type": "stream",
     "text": [
      "iteration    0: Cost 3.70e+02 dj_dw: -1.546e+03, dj_db: -3.475e+01 w: 1.546e+00, b: 3.47500e-02\n",
      "iteration 5000: Cost 8.55e+00 dj_dw: -2.353e-02, dj_db:  1.007e+00 w: 1.042e+00, b:-5.93069e+00\n",
      "iteration 10000: Cost 4.82e+00 dj_dw: -1.699e-02, dj_db:  7.271e-01 w: 1.143e+00, b:-1.02276e+01\n",
      "iteration 15000: Cost 2.88e+00 dj_dw: -1.227e-02, dj_db:  5.250e-01 w: 1.215e+00, b:-1.33304e+01\n",
      "iteration 20000: Cost 1.87e+00 dj_dw: -8.861e-03, dj_db:  3.791e-01 w: 1.268e+00, b:-1.55710e+01\n",
      "iteration 25000: Cost 1.34e+00 dj_dw: -6.399e-03, dj_db:  2.738e-01 w: 1.305e+00, b:-1.71890e+01\n",
      "iteration 30000: Cost 1.06e+00 dj_dw: -4.621e-03, dj_db:  1.977e-01 w: 1.333e+00, b:-1.83574e+01\n",
      "iteration 35000: Cost 9.20e-01 dj_dw: -3.337e-03, dj_db:  1.428e-01 w: 1.352e+00, b:-1.92011e+01\n",
      "iteration 40000: Cost 8.45e-01 dj_dw: -2.409e-03, dj_db:  1.031e-01 w: 1.367e+00, b:-1.98103e+01\n",
      "iteration 45000: Cost 8.06e-01 dj_dw: -1.740e-03, dj_db:  7.444e-02 w: 1.377e+00, b:-2.02502e+01\n",
      "(w, b) found by gradient descent: (  1.3843, -20.5679)\n"
     ]
    }
   ],
   "source": [
    "w_init = 0\n",
    "b_init = 0\n",
    "iterations = 50000\n",
    "tmp_alpha = 1.0e-3\n",
    "w_final, b_final, J_hist, p_hist = gradient_descent(x_train, y_train, w_init, b_init, tmp_alpha, iterations, compute_cost, compute_gradient)\n",
    "print(f\"(w, b) found by gradient descent: ({w_final:8.4f}, {b_final: 8.4f})\")"
   ]
  },
  {
   "cell_type": "markdown",
   "metadata": {},
   "source": [
    "Take a moment and note some characteristics of the gradient descent process printed above. \n",
    "- The cost starts large and rapidly declines as described in the slide from the lecture\n",
    "- The partial derivatives, dj_dw and dj_db also get smaller, rapidly at first and the more slowly. As shown in the diagram from the lecture, as the process nears the 'bottom of the bowl' progress is slower due to the smaller value of the derivative at that point. \n",
    "- progress slows through the learning rate, alpha, remains fixed"
   ]
  },
  {
   "cell_type": "markdown",
   "metadata": {},
   "source": [
    "# Cost versus iterations of gradient descent\n",
    "\n",
    "A plot of cost versus iterations is a useful measure of progress in gradient descent. Cost should always decrease in successful runs. The change in cost is so rapid initially, it is useful to plot the initial decent on a different scale than the final descent. In the plots below note the scale of cost on the axes and the iteration step."
   ]
  },
  {
   "cell_type": "code",
   "execution_count": 16,
   "metadata": {},
   "outputs": [
    {
     "data": {
      "image/png": "[encoded data removed]",
      "text/plain": [
       "<Figure size 1200x400 with 2 Axes>"
      ]
     },
     "metadata": {},
     "output_type": "display_data"
    }
   ],
   "source": [
    "fig, (ax1, ax2) = plt.subplots(1,2, constrained_layout = True, figsize=(12,4))\n",
    "ax1.plot(J_hist[:1000])\n",
    "ax2.plot(1000 + np.arange(len(J_hist[1000:])), J_hist[1000:])\n",
    "ax1.set_title(\"Cost vs. iteration(start)\"); ax2.set_title(\"Cost vs. iteration (end)\")\n",
    "ax1.set_ylabel(\"Cost\")\n",
    "ax1.set_xlabel('iteration step')\n",
    "plt.show()"
   ]
  },
  {
   "cell_type": "markdown",
   "metadata": {},
   "source": [
    "# Predictions\n",
    "\n",
    "Now that we have discovered the optimal values for the parameters $w$ and $b$, we can now use the model to predict housing values based on our learned parameters. As expected, the predicted values are nearly the same as the training values for the same housing. Futher, the value not in the prediction is in line with the expected value. "
   ]
  },
  {
   "cell_type": "code",
   "execution_count": 14,
   "metadata": {},
   "outputs": [
    {
     "name": "stdout",
     "output_type": "stream",
     "text": [
      "24 m^2 house prediction  12.3 10M Won\n",
      "40 m^2 house prediction  34.8 10M Won\n",
      "51 m^2 house prediction  50.2 10M Won\n"
     ]
    }
   ],
   "source": [
    "print(f\"24 m^2 house prediction {w_final * 24 + b_final: 0.1f} 10M Won\")\n",
    "print(f\"40 m^2 house prediction {w_final * 40 + b_final: 0.1f} 10M Won\")\n",
    "print(f\"51 m^2 house prediction {w_final * 51 + b_final: 0.1f} 10M Won\")"
   ]
  },
  {
   "cell_type": "markdown",
   "metadata": {},
   "source": [
    "# Plotting\n",
    "We can show the progress of gradient descent during its execution by plotting the cost over iteractions on a contour plot of the cost(w,b)\n",
    "fig, ax = plt.subplots(1,1, figsize(12,6))\n",
    "plt_contour_wgrad(x_train, y_train, p_hist, ax)\n"
   ]
  },
  {
   "cell_type": "markdown",
   "metadata": {},
   "source": [
    "In this lab, we:\n",
    "- investigated the details of gradient descent for a single variable. \n",
    "- developed a routine to compute the gradient\n",
    "- visualized what the gradient is\n",
    "- completed a gradient descent routine\n",
    "- utilized gradient descent to find parameters \n",
    "- examined the impact of sizing the learning rate"
   ]
  },
  {
   "cell_type": "code",
   "execution_count": null,
   "metadata": {},
   "outputs": [],
   "source": []
  }
 ],
 "metadata": {
  "kernelspec": {
   "display_name": "Python 3 (ipykernel)",
   "language": "python",
   "name": "python3"
  },
  "language_info": {
   "codemirror_mode": {
    "name": "ipython",
    "version": 3
   },
   "file_extension": ".py",
   "mimetype": "text/x-python",
   "name": "python",
   "nbconvert_exporter": "python",
   "pygments_lexer": "ipython3",
   "version": "3.10.11"
  }
 },
 "nbformat": 4,
 "nbformat_minor": 2
}
