{
 "cells": [
  {
   "cell_type": "markdown",
   "id": "7fa937f7",
   "metadata": {},
   "source": [
    "# 미분계수 구하기\n",
    "\n",
    "아래와 같은 간단한 함수 $f(x)$에 대하여 $x=3$에서 미분계수를 구하는 함수는?\n",
    "\n",
    "$f(x) = e^x + 5x^2 -6x -5$"
   ]
  },
  {
   "cell_type": "code",
   "execution_count": 23,
   "id": "f7d5d6f5",
   "metadata": {},
   "outputs": [
    {
     "name": "stdout",
     "output_type": "stream",
     "text": [
      "44.0855519627803\n"
     ]
    }
   ],
   "source": [
    "import numpy as np\n",
    "\n",
    "def f(x):\n",
    "    return np.exp(x) + 5*x**2 -6 *x -5\n",
    "\n",
    "def derivative(a, h = 1e-6):\n",
    "    return (f(a+h) - f(a)) / h \n",
    "\n",
    "print(derivative(3))"
   ]
  },
  {
   "cell_type": "markdown",
   "id": "e9784e6e",
   "metadata": {},
   "source": [
    "sympy의 diff() method를 이용하여 위의 결과가 맞는지 확인해보자."
   ]
  },
  {
   "cell_type": "code",
   "execution_count": 24,
   "id": "6ff01e65",
   "metadata": {},
   "outputs": [
    {
     "name": "stdout",
     "output_type": "stream",
     "text": [
      "Requirement already satisfied: sympy in /Users/kyo/miniconda3/lib/python3.10/site-packages (1.12)\r\n",
      "Requirement already satisfied: mpmath>=0.19 in /Users/kyo/miniconda3/lib/python3.10/site-packages (from sympy) (1.3.0)\r\n"
     ]
    }
   ],
   "source": [
    "!pip install sympy"
   ]
  },
  {
   "cell_type": "code",
   "execution_count": 26,
   "id": "c1d0ed38",
   "metadata": {},
   "outputs": [
    {
     "ename": "SympifyError",
     "evalue": "Sympify of expression 'could not parse '<function f at 0x14b45b9a0>'' failed, because of exception being raised:\nSyntaxError: invalid syntax (<string>, line 1)",
     "output_type": "error",
     "traceback": [
      "\u001b[0;31m---------------------------------------------------------------------------\u001b[0m",
      "\u001b[0;31mValueError\u001b[0m                                Traceback (most recent call last)",
      "\u001b[0;31mValueError\u001b[0m: Error from parse_expr with transformed code: \"<Symbol ('function' )Symbol ('f' )Symbol ('at' )Integer (0x14b45b9a0 )>\"",
      "\nThe above exception was the direct cause of the following exception:\n",
      "\u001b[0;31mSyntaxError\u001b[0m                               Traceback (most recent call last)",
      "File \u001b[0;32m~/miniconda3/lib/python3.10/site-packages/sympy/core/sympify.py:495\u001b[0m, in \u001b[0;36msympify\u001b[0;34m(a, locals, convert_xor, strict, rational, evaluate)\u001b[0m\n\u001b[1;32m    494\u001b[0m     a \u001b[38;5;241m=\u001b[39m a\u001b[38;5;241m.\u001b[39mreplace(\u001b[38;5;124m'\u001b[39m\u001b[38;5;130;01m\\n\u001b[39;00m\u001b[38;5;124m'\u001b[39m, \u001b[38;5;124m'\u001b[39m\u001b[38;5;124m'\u001b[39m)\n\u001b[0;32m--> 495\u001b[0m     expr \u001b[38;5;241m=\u001b[39m \u001b[43mparse_expr\u001b[49m\u001b[43m(\u001b[49m\u001b[43ma\u001b[49m\u001b[43m,\u001b[49m\u001b[43m \u001b[49m\u001b[43mlocal_dict\u001b[49m\u001b[38;5;241;43m=\u001b[39;49m\u001b[38;5;28;43mlocals\u001b[39;49m\u001b[43m,\u001b[49m\u001b[43m \u001b[49m\u001b[43mtransformations\u001b[49m\u001b[38;5;241;43m=\u001b[39;49m\u001b[43mtransformations\u001b[49m\u001b[43m,\u001b[49m\u001b[43m \u001b[49m\u001b[43mevaluate\u001b[49m\u001b[38;5;241;43m=\u001b[39;49m\u001b[43mevaluate\u001b[49m\u001b[43m)\u001b[49m\n\u001b[1;32m    496\u001b[0m \u001b[38;5;28;01mexcept\u001b[39;00m (TokenError, \u001b[38;5;167;01mSyntaxError\u001b[39;00m) \u001b[38;5;28;01mas\u001b[39;00m exc:\n",
      "File \u001b[0;32m~/miniconda3/lib/python3.10/site-packages/sympy/parsing/sympy_parser.py:1087\u001b[0m, in \u001b[0;36mparse_expr\u001b[0;34m(s, local_dict, transformations, global_dict, evaluate)\u001b[0m\n\u001b[1;32m   1086\u001b[0m     local_dict[i] \u001b[38;5;241m=\u001b[39m null\n\u001b[0;32m-> 1087\u001b[0m \u001b[38;5;28;01mraise\u001b[39;00m e \u001b[38;5;28;01mfrom\u001b[39;00m \u001b[38;5;21;01mValueError\u001b[39;00m(\u001b[38;5;124mf\u001b[39m\u001b[38;5;124m\"\u001b[39m\u001b[38;5;124mError from parse_expr with transformed code: \u001b[39m\u001b[38;5;132;01m{\u001b[39;00mcode\u001b[38;5;132;01m!r}\u001b[39;00m\u001b[38;5;124m\"\u001b[39m)\n",
      "File \u001b[0;32m~/miniconda3/lib/python3.10/site-packages/sympy/parsing/sympy_parser.py:1078\u001b[0m, in \u001b[0;36mparse_expr\u001b[0;34m(s, local_dict, transformations, global_dict, evaluate)\u001b[0m\n\u001b[1;32m   1077\u001b[0m \u001b[38;5;28;01mtry\u001b[39;00m:\n\u001b[0;32m-> 1078\u001b[0m     rv \u001b[38;5;241m=\u001b[39m \u001b[43meval_expr\u001b[49m\u001b[43m(\u001b[49m\u001b[43mcode\u001b[49m\u001b[43m,\u001b[49m\u001b[43m \u001b[49m\u001b[43mlocal_dict\u001b[49m\u001b[43m,\u001b[49m\u001b[43m \u001b[49m\u001b[43mglobal_dict\u001b[49m\u001b[43m)\u001b[49m\n\u001b[1;32m   1079\u001b[0m     \u001b[38;5;66;03m# restore neutral definitions for names\u001b[39;00m\n",
      "File \u001b[0;32m~/miniconda3/lib/python3.10/site-packages/sympy/parsing/sympy_parser.py:906\u001b[0m, in \u001b[0;36meval_expr\u001b[0;34m(code, local_dict, global_dict)\u001b[0m\n\u001b[1;32m    901\u001b[0m \u001b[38;5;250m\u001b[39m\u001b[38;5;124;03m\"\"\"\u001b[39;00m\n\u001b[1;32m    902\u001b[0m \u001b[38;5;124;03mEvaluate Python code generated by ``stringify_expr``.\u001b[39;00m\n\u001b[1;32m    903\u001b[0m \n\u001b[1;32m    904\u001b[0m \u001b[38;5;124;03mGenerally, ``parse_expr`` should be used.\u001b[39;00m\n\u001b[1;32m    905\u001b[0m \u001b[38;5;124;03m\"\"\"\u001b[39;00m\n\u001b[0;32m--> 906\u001b[0m expr \u001b[38;5;241m=\u001b[39m \u001b[38;5;28;43meval\u001b[39;49m\u001b[43m(\u001b[49m\n\u001b[1;32m    907\u001b[0m \u001b[43m    \u001b[49m\u001b[43mcode\u001b[49m\u001b[43m,\u001b[49m\u001b[43m \u001b[49m\u001b[43mglobal_dict\u001b[49m\u001b[43m,\u001b[49m\u001b[43m \u001b[49m\u001b[43mlocal_dict\u001b[49m\u001b[43m)\u001b[49m  \u001b[38;5;66;03m# take local objects in preference\u001b[39;00m\n\u001b[1;32m    908\u001b[0m \u001b[38;5;28;01mreturn\u001b[39;00m expr\n",
      "\u001b[0;31mSyntaxError\u001b[0m: invalid syntax (<string>, line 1)",
      "\nDuring handling of the above exception, another exception occurred:\n",
      "\u001b[0;31mSympifyError\u001b[0m                              Traceback (most recent call last)",
      "Cell \u001b[0;32mIn[26], line 2\u001b[0m\n\u001b[1;32m      1\u001b[0m \u001b[38;5;28;01mfrom\u001b[39;00m \u001b[38;5;21;01msympy\u001b[39;00m \u001b[38;5;28;01mimport\u001b[39;00m diff\n\u001b[0;32m----> 2\u001b[0m df_dx \u001b[38;5;241m=\u001b[39m \u001b[43mdiff\u001b[49m\u001b[43m(\u001b[49m\u001b[43mf\u001b[49m\u001b[43m,\u001b[49m\u001b[43m \u001b[49m\u001b[43mx\u001b[49m\u001b[43m)\u001b[49m\n\u001b[1;32m      3\u001b[0m \u001b[38;5;28mprint\u001b[39m(df_dx)\n",
      "File \u001b[0;32m~/miniconda3/lib/python3.10/site-packages/sympy/core/function.py:2484\u001b[0m, in \u001b[0;36mdiff\u001b[0;34m(f, *symbols, **kwargs)\u001b[0m\n\u001b[1;32m   2482\u001b[0m     \u001b[38;5;28;01mreturn\u001b[39;00m f\u001b[38;5;241m.\u001b[39mdiff(\u001b[38;5;241m*\u001b[39msymbols, \u001b[38;5;241m*\u001b[39m\u001b[38;5;241m*\u001b[39mkwargs)\n\u001b[1;32m   2483\u001b[0m kwargs\u001b[38;5;241m.\u001b[39msetdefault(\u001b[38;5;124m'\u001b[39m\u001b[38;5;124mevaluate\u001b[39m\u001b[38;5;124m'\u001b[39m, \u001b[38;5;28;01mTrue\u001b[39;00m)\n\u001b[0;32m-> 2484\u001b[0m \u001b[38;5;28;01mreturn\u001b[39;00m \u001b[43m_derivative_dispatch\u001b[49m\u001b[43m(\u001b[49m\u001b[43mf\u001b[49m\u001b[43m,\u001b[49m\u001b[43m \u001b[49m\u001b[38;5;241;43m*\u001b[39;49m\u001b[43msymbols\u001b[49m\u001b[43m,\u001b[49m\u001b[43m \u001b[49m\u001b[38;5;241;43m*\u001b[39;49m\u001b[38;5;241;43m*\u001b[39;49m\u001b[43mkwargs\u001b[49m\u001b[43m)\u001b[49m\n",
      "File \u001b[0;32m~/miniconda3/lib/python3.10/site-packages/sympy/core/function.py:1909\u001b[0m, in \u001b[0;36m_derivative_dispatch\u001b[0;34m(expr, *variables, **kwargs)\u001b[0m\n\u001b[1;32m   1907\u001b[0m     \u001b[38;5;28;01mfrom\u001b[39;00m \u001b[38;5;21;01msympy\u001b[39;00m\u001b[38;5;21;01m.\u001b[39;00m\u001b[38;5;21;01mtensor\u001b[39;00m\u001b[38;5;21;01m.\u001b[39;00m\u001b[38;5;21;01marray\u001b[39;00m\u001b[38;5;21;01m.\u001b[39;00m\u001b[38;5;21;01marray_derivatives\u001b[39;00m \u001b[38;5;28;01mimport\u001b[39;00m ArrayDerivative\n\u001b[1;32m   1908\u001b[0m     \u001b[38;5;28;01mreturn\u001b[39;00m ArrayDerivative(expr, \u001b[38;5;241m*\u001b[39mvariables, \u001b[38;5;241m*\u001b[39m\u001b[38;5;241m*\u001b[39mkwargs)\n\u001b[0;32m-> 1909\u001b[0m \u001b[38;5;28;01mreturn\u001b[39;00m \u001b[43mDerivative\u001b[49m\u001b[43m(\u001b[49m\u001b[43mexpr\u001b[49m\u001b[43m,\u001b[49m\u001b[43m \u001b[49m\u001b[38;5;241;43m*\u001b[39;49m\u001b[43mvariables\u001b[49m\u001b[43m,\u001b[49m\u001b[43m \u001b[49m\u001b[38;5;241;43m*\u001b[39;49m\u001b[38;5;241;43m*\u001b[39;49m\u001b[43mkwargs\u001b[49m\u001b[43m)\u001b[49m\n",
      "File \u001b[0;32m~/miniconda3/lib/python3.10/site-packages/sympy/core/function.py:1233\u001b[0m, in \u001b[0;36mDerivative.__new__\u001b[0;34m(cls, expr, *variables, **kwargs)\u001b[0m\n\u001b[1;32m   1232\u001b[0m \u001b[38;5;28;01mdef\u001b[39;00m \u001b[38;5;21m__new__\u001b[39m(\u001b[38;5;28mcls\u001b[39m, expr, \u001b[38;5;241m*\u001b[39mvariables, \u001b[38;5;241m*\u001b[39m\u001b[38;5;241m*\u001b[39mkwargs):\n\u001b[0;32m-> 1233\u001b[0m     expr \u001b[38;5;241m=\u001b[39m \u001b[43msympify\u001b[49m\u001b[43m(\u001b[49m\u001b[43mexpr\u001b[49m\u001b[43m)\u001b[49m\n\u001b[1;32m   1234\u001b[0m     symbols_or_none \u001b[38;5;241m=\u001b[39m \u001b[38;5;28mgetattr\u001b[39m(expr, \u001b[38;5;124m\"\u001b[39m\u001b[38;5;124mfree_symbols\u001b[39m\u001b[38;5;124m\"\u001b[39m, \u001b[38;5;28;01mNone\u001b[39;00m)\n\u001b[1;32m   1235\u001b[0m     has_symbol_set \u001b[38;5;241m=\u001b[39m \u001b[38;5;28misinstance\u001b[39m(symbols_or_none, \u001b[38;5;28mset\u001b[39m)\n",
      "File \u001b[0;32m~/miniconda3/lib/python3.10/site-packages/sympy/core/sympify.py:497\u001b[0m, in \u001b[0;36msympify\u001b[0;34m(a, locals, convert_xor, strict, rational, evaluate)\u001b[0m\n\u001b[1;32m    495\u001b[0m     expr \u001b[38;5;241m=\u001b[39m parse_expr(a, local_dict\u001b[38;5;241m=\u001b[39m\u001b[38;5;28mlocals\u001b[39m, transformations\u001b[38;5;241m=\u001b[39mtransformations, evaluate\u001b[38;5;241m=\u001b[39mevaluate)\n\u001b[1;32m    496\u001b[0m \u001b[38;5;28;01mexcept\u001b[39;00m (TokenError, \u001b[38;5;167;01mSyntaxError\u001b[39;00m) \u001b[38;5;28;01mas\u001b[39;00m exc:\n\u001b[0;32m--> 497\u001b[0m     \u001b[38;5;28;01mraise\u001b[39;00m SympifyError(\u001b[38;5;124m'\u001b[39m\u001b[38;5;124mcould not parse \u001b[39m\u001b[38;5;132;01m%r\u001b[39;00m\u001b[38;5;124m'\u001b[39m \u001b[38;5;241m%\u001b[39m a, exc)\n\u001b[1;32m    499\u001b[0m \u001b[38;5;28;01mreturn\u001b[39;00m expr\n",
      "\u001b[0;31mSympifyError\u001b[0m: Sympify of expression 'could not parse '<function f at 0x14b45b9a0>'' failed, because of exception being raised:\nSyntaxError: invalid syntax (<string>, line 1)"
     ]
    }
   ],
   "source": [
    "from sympy import Derivative\n",
    "df_dx = D(f, x)\n",
    "print(df_dx)"
   ]
  },
  {
   "cell_type": "markdown",
   "id": "bd45b66f",
   "metadata": {},
   "source": [
    "# 적분 함수 만들기\n",
    "\n",
    "위의 함수 $f(x)$의 그래프를 (-2, 2)의 범위에 대하여 도시하고 [1, 2] 영역의 넓이를 구하는 함수 integrate를 구성하시오."
   ]
  },
  {
   "cell_type": "code",
   "execution_count": 4,
   "id": "c35cee22",
   "metadata": {},
   "outputs": [
    {
     "data": {
      "text/plain": [
       "[<matplotlib.lines.Line2D at 0x127277070>]"
      ]
     },
     "execution_count": 4,
     "metadata": {},
     "output_type": "execute_result"
    },
    {
     "data": {
      "image/png": "[encoded data removed]",
      "text/plain": [
       "<Figure size 640x480 with 1 Axes>"
      ]
     },
     "metadata": {},
     "output_type": "display_data"
    }
   ],
   "source": [
    "import matplotlib.pyplot as plt\n",
    "\n",
    "x = np.linspace(-2, 2, 200)\n",
    "y = f(x)\n",
    "\n",
    "plt.plot(x, y)"
   ]
  },
  {
   "cell_type": "code",
   "execution_count": 5,
   "id": "441b2481",
   "metadata": {},
   "outputs": [
    {
     "name": "stdout",
     "output_type": "stream",
     "text": [
      "2.3374421597027877\n"
     ]
    }
   ],
   "source": [
    "def integrate(func, a, b, N=1000):\n",
    "    N = 1000\n",
    "    dx = (b-a) / N\n",
    "    total_area = 0.0\n",
    "    \n",
    "    for i in range(N):\n",
    "        x0 = a + i*dx\n",
    "        x1 = a + (i + 1)*dx\n",
    "        y0 = func(x0)\n",
    "        y1 = func(x1)\n",
    "        area = (y0 + y1) * dx / 2.0\n",
    "        total_area += area\n",
    "    return total_area\n",
    "\n",
    "print(integrate(f, 1, 2))"
   ]
  },
  {
   "cell_type": "markdown",
   "id": "5b9af3e1",
   "metadata": {},
   "source": [
    "scipy.integrate의 quad method를 import 하여 위의 결과를 재확인하시오."
   ]
  },
  {
   "cell_type": "code",
   "execution_count": 7,
   "id": "d74bd257",
   "metadata": {},
   "outputs": [
    {
     "name": "stdout",
     "output_type": "stream",
     "text": [
      "(2.337440937138272, 4.023726379433235e-14)\n"
     ]
    }
   ],
   "source": [
    "from scipy.integrate import quad \n",
    "print(quad(f, 1, 2))"
   ]
  },
  {
   "cell_type": "markdown",
   "id": "852a2db2",
   "metadata": {},
   "source": [
    "# Class 만들고 활용하기 \n",
    "\n",
    "임의의 함수 $f(x)$를 input으로 하여 특정 $x=a$에서의 미분계수와 a< x < b의 범위에서 정적분 값을 구하는 Calculus class를 만드시오."
   ]
  },
  {
   "cell_type": "code",
   "execution_count": 11,
   "id": "8a2bed7f",
   "metadata": {},
   "outputs": [],
   "source": [
    "class Calculus:\n",
    "    def __init__(self, F):\n",
    "        self.F = F\n",
    "        \n",
    "        \n",
    "    def diff(self, a, h = 1e-6):\n",
    "        return (self.F(a+h) - self.F(a)) / h \n",
    "\n",
    "    \n",
    "    def integrate(self, a, b, N=1000):\n",
    "        N = 1000\n",
    "        dx = (b-a) / N\n",
    "        total_area = 0.0\n",
    "\n",
    "        for i in range(N):\n",
    "            x0 = a + i*dx\n",
    "            x1 = a + (i + 1)*dx\n",
    "            y0 = self.F(x0)\n",
    "            y1 = self.F(x1)\n",
    "            area = (y0 + y1) * dx / 2.0\n",
    "            total_area += area\n",
    "        return total_area"
   ]
  },
  {
   "cell_type": "code",
   "execution_count": 13,
   "id": "ddc64dfc",
   "metadata": {},
   "outputs": [
    {
     "name": "stdout",
     "output_type": "stream",
     "text": [
      "6.000001000927568\n",
      "2.6666679999999987\n"
     ]
    }
   ],
   "source": [
    "def f(x):\n",
    "    return x**2\n",
    "\n",
    "f_calc = Calculus(f)\n",
    "print(f_calc.diff(3))\n",
    "print(f_calc.integrate(0, 2))"
   ]
  },
  {
   "cell_type": "markdown",
   "id": "bc70f963",
   "metadata": {},
   "source": [
    "# Class 상속하기\n",
    "\n",
    "위의 Calculus class를 상속한 Calculator class를 만들고 두 값 $a, b$를 넣었을 때 그 합을 구하는 add method를 추가하시오."
   ]
  },
  {
   "cell_type": "code",
   "execution_count": 14,
   "id": "488c05c6",
   "metadata": {},
   "outputs": [],
   "source": [
    "class Calculator(Calculus):    \n",
    "    def add(self, a, b):\n",
    "        return a + b"
   ]
  },
  {
   "cell_type": "code",
   "execution_count": 18,
   "id": "b26f13ea",
   "metadata": {},
   "outputs": [
    {
     "name": "stdout",
     "output_type": "stream",
     "text": [
      "9\n",
      "6.000001000927568\n"
     ]
    }
   ],
   "source": [
    "X = Calculator(f)\n",
    "print(X.add(4, 5))\n",
    "print(X.diff(3))"
   ]
  },
  {
   "cell_type": "code",
   "execution_count": null,
   "id": "87366d6d",
   "metadata": {},
   "outputs": [],
   "source": []
  }
 ],
 "metadata": {
  "kernelspec": {
   "display_name": "Python 3 (ipykernel)",
   "language": "python",
   "name": "python3"
  },
  "language_info": {
   "codemirror_mode": {
    "name": "ipython",
    "version": 3
   },
   "file_extension": ".py",
   "mimetype": "text/x-python",
   "name": "python",
   "nbconvert_exporter": "python",
   "pygments_lexer": "ipython3",
   "version": "3.10.11"
  }
 },
 "nbformat": 4,
 "nbformat_minor": 5
}
