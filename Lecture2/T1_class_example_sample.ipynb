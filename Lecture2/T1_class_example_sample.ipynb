{
 "cells": [
  {
   "cell_type": "markdown",
   "id": "539c59b3",
   "metadata": {},
   "source": [
    "# 미분계수 구하기\n",
    "\n",
    "아래와 같은 간단한 함수 $f(x)$에 대하여 $x=3$에서 미분계수를 구하는 함수는?\n",
    "\n",
    "$f(x) = e^x + 5x^2 -6x -5$"
   ]
  },
  {
   "cell_type": "code",
   "execution_count": null,
   "id": "50485e9f",
   "metadata": {},
   "outputs": [],
   "source": []
  },
  {
   "cell_type": "markdown",
   "id": "6a40a6eb",
   "metadata": {},
   "source": [
    "# 적분 함수 만들기\n",
    "\n",
    "위의 함수 $f(x)$의 그래프를 (-2, 2)의 범위에 대하여 도시하고 [1, 2] 영역의 넓이를 구하는 함수 integrate를 구성하시오."
   ]
  },
  {
   "cell_type": "code",
   "execution_count": null,
   "id": "6021cfc7",
   "metadata": {},
   "outputs": [],
   "source": []
  },
  {
   "cell_type": "code",
   "execution_count": null,
   "id": "0a207c0f",
   "metadata": {},
   "outputs": [],
   "source": []
  },
  {
   "cell_type": "markdown",
   "id": "3e4abcf8",
   "metadata": {},
   "source": [
    "scipy.integrate의 quad method를 import 하여 위의 결과를 재확인하시오."
   ]
  },
  {
   "cell_type": "code",
   "execution_count": null,
   "id": "82d54fb3",
   "metadata": {},
   "outputs": [],
   "source": []
  },
  {
   "cell_type": "markdown",
   "id": "b5cf96f1",
   "metadata": {},
   "source": [
    "# Class 만들고 활용하기 \n",
    "\n",
    "임의의 함수 $f(x)$를 input으로 하여 특정 $x=a$에서의 미분계수와 a< x < b의 범위에서 정적분 값을 구하는 Calculus class를 만드시오."
   ]
  },
  {
   "cell_type": "code",
   "execution_count": null,
   "id": "7f508035",
   "metadata": {},
   "outputs": [],
   "source": []
  },
  {
   "cell_type": "code",
   "execution_count": null,
   "id": "2a35bef5",
   "metadata": {},
   "outputs": [],
   "source": []
  },
  {
   "cell_type": "markdown",
   "id": "87aa5175",
   "metadata": {},
   "source": [
    "# Class 상속하기\n",
    "\n",
    "위의 Calculus class를 상속한 Calculator class를 만들고 두 값 $a, b$를 넣었을 때 그 합을 구하는 add method를 추가하시오."
   ]
  },
  {
   "cell_type": "code",
   "execution_count": null,
   "id": "a39bcac0",
   "metadata": {},
   "outputs": [],
   "source": []
  }
 ],
 "metadata": {
  "kernelspec": {
   "display_name": "Python 3 (ipykernel)",
   "language": "python",
   "name": "python3"
  },
  "language_info": {
   "codemirror_mode": {
    "name": "ipython",
    "version": 3
   },
   "file_extension": ".py",
   "mimetype": "text/x-python",
   "name": "python",
   "nbconvert_exporter": "python",
   "pygments_lexer": "ipython3",
   "version": "3.10.11"
  }
 },
 "nbformat": 4,
 "nbformat_minor": 5
}
